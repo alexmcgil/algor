{
  "nbformat": 4,
  "nbformat_minor": 0,
  "metadata": {
    "colab": {
      "name": "LinReg.ipynb",
      "provenance": [],
      "authorship_tag": "ABX9TyMi5W+dejYaaF91VUfSLrbB",
      "include_colab_link": true
    },
    "kernelspec": {
      "name": "python3",
      "display_name": "Python 3"
    },
    "language_info": {
      "name": "python"
    }
  },
  "cells": [
    {
      "cell_type": "markdown",
      "metadata": {
        "id": "view-in-github",
        "colab_type": "text"
      },
      "source": [
        "<a href=\"https://colab.research.google.com/github/alexmcgil/algor/blob/master/LinReg.ipynb\" target=\"_parent\"><img src=\"https://colab.research.google.com/assets/colab-badge.svg\" alt=\"Open In Colab\"/></a>"
      ]
    },
    {
      "cell_type": "code",
      "metadata": {
        "id": "ukKw1EnaM18v"
      },
      "source": [
        "import numpy as np\n",
        "import scipy as sp\n",
        "import pandas as pd\n",
        "import seaborn as sns"
      ],
      "execution_count": 2,
      "outputs": []
    },
    {
      "cell_type": "code",
      "metadata": {
        "id": "CSeTO--4NSYq"
      },
      "source": [
        "x = np.linspace(1,10,1000)"
      ],
      "execution_count": 3,
      "outputs": []
    },
    {
      "cell_type": "code",
      "metadata": {
        "id": "wKYJtYCRNVnU"
      },
      "source": [
        "# y = 4 * x - 3\n",
        "y = np.array(range(1000),float)\n",
        "for i in range(1000):\n",
        "    y[i] = 4 * x[i] - 3"
      ],
      "execution_count": 4,
      "outputs": []
    },
    {
      "cell_type": "code",
      "metadata": {
        "id": "HxSLpd90OpCv"
      },
      "source": [
        "datafr = pd.DataFrame({'x':x,'y':y})"
      ],
      "execution_count": 6,
      "outputs": []
    },
    {
      "cell_type": "code",
      "metadata": {
        "colab": {
          "base_uri": "https://localhost:8080/",
          "height": 460
        },
        "id": "giUiIHsDNZic",
        "outputId": "aa608958-e445-4956-97ee-2231b5c68382"
      },
      "source": [
        "# y = f(x)\n",
        "sns.jointplot(x='x', y='y', data=datafr, kind='scatter')"
      ],
      "execution_count": 7,
      "outputs": [
        {
          "output_type": "execute_result",
          "data": {
            "text/plain": [
              "<seaborn.axisgrid.JointGrid at 0x7f523862b190>"
            ]
          },
          "metadata": {
            "tags": []
          },
          "execution_count": 7
        },
        {
          "output_type": "display_data",
          "data": {
            "image/png": "[encoded data removed]",
            "text/plain": [
              "<Figure size 432x432 with 3 Axes>"
            ]
          },
          "metadata": {
            "tags": [],
            "needs_background": "light"
          }
        }
      ]
    },
    {
      "cell_type": "code",
      "metadata": {
        "colab": {
          "base_uri": "https://localhost:8080/"
        },
        "id": "fSmBSW-jNa_L",
        "outputId": "c7746a5d-5c64-447a-a3e7-67a32fe572eb"
      },
      "source": [
        "# adding whitenoice\n",
        "y_wn = np.array(range(1000),float)\n",
        "for i in range(1000):\n",
        "    y_wn = y + 0.5*np.random.normal(0,5,1000)\n",
        "y_wn"
      ],
      "execution_count": 8,
      "outputs": [
        {
          "output_type": "execute_result",
          "data": {
            "text/plain": [
              "array([-2.57580330e+00,  8.44783353e-01,  2.03743689e+00,  5.29237021e+00,\n",
              "       -1.00477638e+00,  3.75878689e+00, -7.78680931e-02,  9.87764755e-01,\n",
              "       -2.24172146e+00,  1.52674525e+00,  3.59194207e+00,  2.18865487e+00,\n",
              "       -2.65350391e+00,  2.83713672e-01,  5.63636307e-01,  3.39395587e+00,\n",
              "        4.98762324e-01,  9.46247492e-01,  2.62851624e+00,  3.51427098e+00,\n",
              "        1.90694042e+00,  6.42024776e-01,  8.07754512e-01,  1.21915326e+00,\n",
              "        3.88626177e+00, -3.16132830e+00,  1.53193522e+00,  4.34663271e-01,\n",
              "        2.78284743e+00,  1.86792621e+00,  4.99199199e-01, -1.69181642e+00,\n",
              "        2.97250378e+00,  4.70245009e+00,  2.71955708e+00,  5.87979086e+00,\n",
              "        2.81946701e+00,  2.17205935e+00,  2.59086884e-01,  1.64589016e-01,\n",
              "       -1.27588510e+00,  4.00758823e+00,  3.29092228e+00, -5.80798498e-01,\n",
              "        2.19514230e+00,  6.36800332e+00,  3.20398506e+00,  1.26431609e+00,\n",
              "        5.17592830e+00,  1.06760435e+00, -6.64745502e+00,  1.00723588e+00,\n",
              "        3.57751604e+00,  5.18724259e+00, -1.28668990e+00,  2.22428405e+00,\n",
              "        5.63882646e+00,  2.17281681e+00, -7.68289226e-02,  8.88702758e+00,\n",
              "        1.41498936e+00,  2.43405167e+00,  7.47592374e+00,  2.07050929e+00,\n",
              "        4.86334776e+00,  6.39195542e+00,  7.02920276e+00,  4.24576562e+00,\n",
              "        4.51828856e+00,  5.85195062e+00,  4.02076061e+00,  2.83378716e-01,\n",
              "       -1.03079015e+00,  3.75202760e+00,  6.64546237e+00,  8.52418015e+00,\n",
              "        3.03084618e+00, -2.40841688e+00,  8.66229748e-02,  3.34201878e+00,\n",
              "        1.02159892e+01,  5.06551504e+00,  3.67264903e+00,  5.06568213e+00,\n",
              "        3.58158422e+00,  4.90949468e+00,  7.21782479e+00,  2.63186224e+00,\n",
              "        2.21761769e+00,  2.43622508e+00,  5.23223487e+00,  3.61095084e+00,\n",
              "        7.43361199e+00,  4.21041133e-01,  4.27210157e+00,  6.72959770e-01,\n",
              "       -1.15390246e+00,  2.17203419e-01,  5.53662786e+00,  7.71200392e+00,\n",
              "        9.02436252e+00,  9.45526551e-01,  5.06142669e+00,  7.38724566e+00,\n",
              "        4.68382907e+00,  3.67156972e+00,  2.53229393e+00,  5.55411754e+00,\n",
              "        5.71965789e+00,  5.12165689e+00,  2.54702758e+00,  1.52253956e+00,\n",
              "        7.70887133e+00,  6.72790323e+00,  6.16882550e+00,  5.24275055e+00,\n",
              "        4.05638023e+00,  5.93889164e+00,  1.02364000e+01,  2.03774399e+00,\n",
              "        3.48476254e+00,  2.44687290e+00,  5.09913166e+00,  4.20382725e+00,\n",
              "        3.40273727e+00,  8.75503265e+00,  3.72074148e+00,  8.53402849e+00,\n",
              "        8.29943200e+00,  8.12095303e+00, -1.09585730e+00,  6.85084630e+00,\n",
              "        4.72646071e+00,  4.45329361e+00,  3.19949543e+00, -9.63853271e-03,\n",
              "        5.85745973e+00,  4.65283517e+00,  3.98368439e+00,  4.72594437e+00,\n",
              "        2.96890642e+00,  4.08041487e+00,  6.27534163e+00,  7.90582874e+00,\n",
              "        8.35549486e+00,  1.02423949e+01,  8.56192358e+00,  9.90610994e+00,\n",
              "        6.88258831e+00,  4.69239147e+00,  5.98154058e+00,  1.16280254e+01,\n",
              "        6.36824881e+00,  4.92650248e+00,  7.97119765e+00,  6.14052391e+00,\n",
              "        8.63043784e+00,  5.85361322e+00,  1.07587167e+01,  7.40473263e+00,\n",
              "        7.83311866e+00,  5.38943009e+00,  9.49098906e+00,  9.36324201e+00,\n",
              "        9.57917985e+00,  6.92730978e+00,  8.73021519e+00,  7.73803427e+00,\n",
              "        8.68335586e+00,  9.39322462e+00,  4.69273467e+00,  8.28127378e+00,\n",
              "        8.47485545e+00,  1.52186912e+01,  6.80528041e+00,  4.72219567e+00,\n",
              "        9.65034269e+00,  8.34319165e+00,  4.84863394e+00,  4.71743477e+00,\n",
              "        1.14516385e+01,  1.11259026e+01,  6.16034304e+00,  3.56467582e+00,\n",
              "        4.92300681e+00,  1.19539589e+01,  9.49724299e+00,  4.09543383e+00,\n",
              "        1.16218930e+01,  7.50131035e+00,  1.13133172e+01,  6.70820908e+00,\n",
              "        4.21425057e+00,  7.57904342e+00,  1.11138832e+01,  1.00699803e+01,\n",
              "        5.44350789e+00,  1.28706441e+01,  7.32519366e+00,  5.86561661e+00,\n",
              "        1.40911666e+01,  4.50292243e+00,  6.79760003e+00,  1.27295782e+01,\n",
              "        1.17013303e+01,  7.86126401e+00,  7.10754520e+00,  6.55224629e+00,\n",
              "        1.01537383e+01,  6.87658895e+00,  7.77008708e+00,  6.22218649e+00,\n",
              "        9.20791950e+00,  8.51883274e+00,  1.01428724e+01,  1.12059749e+01,\n",
              "        8.66715718e+00,  5.86541251e+00,  1.12241668e+01,  6.64788654e+00,\n",
              "        7.37271467e+00,  9.98238132e+00,  6.37999317e+00,  9.65952119e+00,\n",
              "        1.37708038e+01,  5.29492348e+00,  8.14069062e+00,  6.43412789e+00,\n",
              "        1.26132933e+01,  1.18137356e+01,  4.60233396e+00,  7.91775297e+00,\n",
              "        8.98813569e+00,  8.62989847e+00,  1.01078332e+01,  9.91311137e+00,\n",
              "        8.80844845e+00,  1.33504646e+01,  1.05769712e+01,  1.46337750e+01,\n",
              "        9.95328987e+00,  1.15954542e+01,  6.67459552e+00,  1.03609836e+01,\n",
              "        4.83776906e+00,  8.86638052e+00,  1.05880491e+01,  9.75011759e+00,\n",
              "        9.10305269e+00,  8.82857658e+00,  9.73205584e+00,  1.25590351e+01,\n",
              "        1.03388180e+01,  6.83636031e+00,  1.58697151e+01,  1.04546421e+01,\n",
              "        1.48247068e+01,  7.01640039e+00,  8.90341387e+00,  8.39845806e+00,\n",
              "        1.20640059e+01,  9.86184128e+00,  9.66351874e+00,  1.06405908e+01,\n",
              "        9.72109028e+00,  8.74618927e+00,  1.03629764e+01,  1.34098509e+01,\n",
              "        1.28930968e+01,  9.14978425e+00,  1.00592052e+01,  1.17099481e+01,\n",
              "        8.81869519e+00,  6.75337175e+00,  7.61776265e+00,  1.04111566e+01,\n",
              "        1.20304247e+01,  1.00259455e+01,  1.04850996e+01,  1.19944794e+01,\n",
              "        1.47651710e+01,  1.12634150e+01,  1.17626555e+01,  1.24847321e+01,\n",
              "        1.29462396e+01,  1.37546700e+01,  1.29795319e+01,  1.22312115e+01,\n",
              "        1.07178735e+01,  7.32313635e+00,  9.47144140e+00,  1.21399371e+01,\n",
              "        7.55172096e+00,  1.13858463e+01,  1.17222375e+01,  1.26658676e+01,\n",
              "        1.58961227e+01,  9.77883042e+00,  6.05138791e+00,  1.02007611e+01,\n",
              "        1.49086537e+01,  1.41019205e+01,  8.09408772e+00,  1.39329311e+01,\n",
              "        1.35917677e+01,  7.41943875e+00,  1.17924350e+01,  1.28760940e+01,\n",
              "        1.32105990e+01,  1.34320976e+01,  1.20081929e+01,  1.28606318e+01,\n",
              "        1.10298945e+01,  1.35034640e+01,  1.32548411e+01,  1.34846611e+01,\n",
              "        1.18996465e+01,  7.81942260e+00,  9.07689778e+00,  1.25213659e+01,\n",
              "        1.14358183e+01,  9.47344491e+00,  1.52360661e+01,  1.07864550e+01,\n",
              "        1.24172044e+01,  1.20598924e+01,  1.16392730e+01,  1.16564263e+01,\n",
              "        1.18098363e+01,  1.17662129e+01,  1.27524802e+01,  1.12153816e+01,\n",
              "        1.42855656e+01,  1.74994322e+01,  1.07204501e+01,  1.89963848e+01,\n",
              "        9.84195298e+00,  1.63075357e+01,  1.34132244e+01,  1.23635347e+01,\n",
              "        1.47860872e+01,  1.02658991e+01,  1.08761300e+01,  9.47602795e+00,\n",
              "        1.15762436e+01,  1.35896387e+01,  1.23620778e+01,  1.32494648e+01,\n",
              "        1.32787161e+01,  1.27585998e+01,  1.36429709e+01,  1.03052134e+01,\n",
              "        1.44685724e+01,  1.64250724e+01,  1.44575157e+01,  1.15491204e+01,\n",
              "        1.63491585e+01,  1.34569880e+01,  1.65676593e+01,  1.44797253e+01,\n",
              "        1.38546942e+01,  1.11926813e+01,  1.26376752e+01,  1.34170754e+01,\n",
              "        1.19740678e+01,  1.64189215e+01,  1.32545250e+01,  1.45852079e+01,\n",
              "        9.88104997e+00,  1.80831418e+01,  9.84625919e+00,  2.00110150e+01,\n",
              "        1.62204953e+01,  1.71327994e+01,  1.37184800e+01,  1.35927651e+01,\n",
              "        1.57736554e+01,  1.28191216e+01,  1.19986333e+01,  1.56215523e+01,\n",
              "        1.54073626e+01,  9.92868026e+00,  1.26329141e+01,  1.76153581e+01,\n",
              "        1.40559837e+01,  1.46791030e+01,  1.58311174e+01,  1.80367156e+01,\n",
              "        1.89140674e+01,  1.08134440e+01,  1.41728931e+01,  1.27991912e+01,\n",
              "        9.06901260e+00,  1.56674686e+01,  1.80828730e+01,  1.63175563e+01,\n",
              "        1.48505675e+01,  9.56970017e+00,  1.35010181e+01,  1.00875491e+01,\n",
              "        1.68280899e+01,  1.37716594e+01,  1.41844552e+01,  8.08935376e+00,\n",
              "        1.85172590e+01,  1.69145792e+01,  1.17541234e+01,  1.63757420e+01,\n",
              "        1.70352345e+01,  1.38482224e+01,  1.18987105e+01,  1.61774637e+01,\n",
              "        1.29875801e+01,  2.03213548e+01,  1.81941120e+01,  1.79768069e+01,\n",
              "        1.25072195e+01,  1.61097517e+01,  1.73527914e+01,  1.69977566e+01,\n",
              "        1.65986176e+01,  1.89702250e+01,  1.73003901e+01,  1.95319063e+01,\n",
              "        1.84105088e+01,  1.13806821e+01,  1.53043067e+01,  1.69887347e+01,\n",
              "        1.37033594e+01,  1.70967774e+01,  1.22722620e+01,  1.43768841e+01,\n",
              "        1.47248949e+01,  1.57205494e+01,  1.85763817e+01,  2.18882560e+01,\n",
              "        1.77557612e+01,  1.55553873e+01,  1.89804774e+01,  1.75227100e+01,\n",
              "        1.46192996e+01,  1.90344368e+01,  1.93336550e+01,  1.48962071e+01,\n",
              "        1.62489817e+01,  1.94598688e+01,  1.47935648e+01,  2.18143057e+01,\n",
              "        1.33870167e+01,  2.18594953e+01,  1.33650578e+01,  1.37651317e+01,\n",
              "        1.94833192e+01,  1.44455680e+01,  1.54617918e+01,  1.81140656e+01,\n",
              "        1.95604403e+01,  2.52367777e+01,  1.70089008e+01,  1.14297871e+01,\n",
              "        1.86483760e+01,  1.81447543e+01,  1.73916203e+01,  1.78426452e+01,\n",
              "        1.37060324e+01,  1.59153146e+01,  2.07240994e+01,  1.71547610e+01,\n",
              "        1.07335190e+01,  1.78673038e+01,  1.64218234e+01,  1.49257309e+01,\n",
              "        2.08074233e+01,  2.12580184e+01,  2.33822789e+01,  1.50983865e+01,\n",
              "        1.68204706e+01,  1.84089132e+01,  1.54410792e+01,  1.81356926e+01,\n",
              "        1.56662430e+01,  1.77658147e+01,  1.76967000e+01,  2.15240047e+01,\n",
              "        1.66833439e+01,  1.60554509e+01,  1.58240361e+01,  2.11467093e+01,\n",
              "        1.72985906e+01,  1.74368674e+01,  1.93305825e+01,  1.78303295e+01,\n",
              "        1.65699221e+01,  1.80244752e+01,  1.82879300e+01,  2.17920596e+01,\n",
              "        1.65945560e+01,  1.88458985e+01,  1.58136120e+01,  1.99644425e+01,\n",
              "        2.41175182e+01,  1.73732176e+01,  1.56592747e+01,  2.08615398e+01,\n",
              "        1.81638705e+01,  1.96499845e+01,  1.50079286e+01,  1.89502871e+01,\n",
              "        2.21771617e+01,  2.12333958e+01,  2.17866207e+01,  1.73863413e+01,\n",
              "        2.34187753e+01,  2.20968701e+01,  1.69833347e+01,  2.28464523e+01,\n",
              "        2.30534512e+01,  2.13695707e+01,  2.20709415e+01,  1.77746955e+01,\n",
              "        1.77231993e+01,  2.05241497e+01,  1.77075335e+01,  2.42734164e+01,\n",
              "        2.22347230e+01,  2.06412669e+01,  2.16780823e+01,  2.01585752e+01,\n",
              "        1.83608504e+01,  1.84230824e+01,  2.09897131e+01,  2.19367225e+01,\n",
              "        1.97301916e+01,  2.58584533e+01,  2.07645916e+01,  2.02651056e+01,\n",
              "        2.03967692e+01,  2.13960753e+01,  2.00780852e+01,  2.19065358e+01,\n",
              "        2.09352296e+01,  1.79263975e+01,  2.25797358e+01,  1.99899204e+01,\n",
              "        2.21133363e+01,  2.40067375e+01,  1.88105944e+01,  2.26536617e+01,\n",
              "        2.18747033e+01,  1.78408876e+01,  2.49267325e+01,  1.98202950e+01,\n",
              "        2.46687501e+01,  2.13187032e+01,  2.31571676e+01,  2.17315599e+01,\n",
              "        1.96907361e+01,  2.11608501e+01,  2.07702518e+01,  1.97248521e+01,\n",
              "        1.98978848e+01,  1.92484024e+01,  2.14574600e+01,  1.76445275e+01,\n",
              "        1.91467555e+01,  2.02114882e+01,  1.74675628e+01,  2.14450292e+01,\n",
              "        1.82570752e+01,  1.95359826e+01,  1.95534252e+01,  1.99328015e+01,\n",
              "        2.18072246e+01,  1.75073636e+01,  2.35987665e+01,  2.27890172e+01,\n",
              "        2.54584530e+01,  2.58047615e+01,  1.95626630e+01,  1.86536379e+01,\n",
              "        2.41303185e+01,  2.22872923e+01,  2.06611195e+01,  2.08671099e+01,\n",
              "        1.96238244e+01,  2.15163215e+01,  2.66162095e+01,  1.98194749e+01,\n",
              "        2.43875539e+01,  2.55449539e+01,  2.08025881e+01,  2.10322170e+01,\n",
              "        2.45350902e+01,  2.33891127e+01,  2.45992515e+01,  2.44694853e+01,\n",
              "        2.01847719e+01,  2.31777868e+01,  2.32870393e+01,  1.99325301e+01,\n",
              "        2.19774120e+01,  2.53405681e+01,  2.25949760e+01,  1.99665073e+01,\n",
              "        2.36199917e+01,  2.57781280e+01,  2.23724250e+01,  1.99910162e+01,\n",
              "        2.11698149e+01,  2.50479934e+01,  2.72841480e+01,  2.17721426e+01,\n",
              "        2.66114445e+01,  2.46469050e+01,  2.41556524e+01,  2.44536379e+01,\n",
              "        2.47298083e+01,  2.18941315e+01,  2.15806734e+01,  2.16280392e+01,\n",
              "        2.46487452e+01,  2.58127965e+01,  2.17583270e+01,  2.67031870e+01,\n",
              "        2.34389551e+01,  2.29390805e+01,  2.40651244e+01,  2.60633880e+01,\n",
              "        2.20574858e+01,  2.02027686e+01,  2.18970373e+01,  2.38421975e+01,\n",
              "        2.13017361e+01,  2.05978422e+01,  2.36952677e+01,  2.02412301e+01,\n",
              "        2.33473314e+01,  2.41279193e+01,  2.43858447e+01,  2.31799689e+01,\n",
              "        2.54590036e+01,  1.80167597e+01,  2.08001294e+01,  2.16974530e+01,\n",
              "        2.11125139e+01,  2.58171751e+01,  2.40733326e+01,  2.06933011e+01,\n",
              "        2.73623009e+01,  2.71504328e+01,  1.97485643e+01,  2.64959752e+01,\n",
              "        2.40425522e+01,  2.14602985e+01,  2.47362079e+01,  2.52927950e+01,\n",
              "        2.10512655e+01,  2.55408842e+01,  2.54606006e+01,  2.32375553e+01,\n",
              "        2.44331996e+01,  2.66617045e+01,  2.56065700e+01,  2.45800382e+01,\n",
              "        2.50676119e+01,  2.58009880e+01,  2.64732409e+01,  2.85414121e+01,\n",
              "        2.26595816e+01,  2.16701138e+01,  2.67378435e+01,  2.18004006e+01,\n",
              "        2.33232342e+01,  2.98253925e+01,  2.22743049e+01,  2.76819309e+01,\n",
              "        2.81716047e+01,  2.49490726e+01,  2.30432901e+01,  2.97259534e+01,\n",
              "        2.48281048e+01,  2.36385904e+01,  2.83696621e+01,  2.34157187e+01,\n",
              "        2.79083053e+01,  2.63583605e+01,  2.46287268e+01,  2.37020671e+01,\n",
              "        2.84084419e+01,  2.41441849e+01,  2.49789051e+01,  2.66223716e+01,\n",
              "        2.39142369e+01,  2.42370260e+01,  3.02004382e+01,  2.40122399e+01,\n",
              "        2.71340466e+01,  2.49586890e+01,  2.47860453e+01,  2.18766884e+01,\n",
              "        2.34119612e+01,  2.39348264e+01,  2.62398377e+01,  2.29036254e+01,\n",
              "        2.61455553e+01,  2.80444591e+01,  2.59925571e+01,  2.48582023e+01,\n",
              "        2.99007785e+01,  2.79383939e+01,  2.73041973e+01,  2.34667742e+01,\n",
              "        2.78075096e+01,  3.01245380e+01,  2.48293581e+01,  2.72434514e+01,\n",
              "        2.89367767e+01,  2.94386751e+01,  2.69243097e+01,  2.19085585e+01,\n",
              "        2.67575597e+01,  3.05095444e+01,  2.71193341e+01,  2.40265265e+01,\n",
              "        3.04901298e+01,  3.02840130e+01,  2.63468683e+01,  2.41274252e+01,\n",
              "        2.66470386e+01,  3.07841008e+01,  2.48958298e+01,  2.60709669e+01,\n",
              "        3.05247558e+01,  3.03510531e+01,  2.96136139e+01,  2.90342229e+01,\n",
              "        2.89867462e+01,  2.41752336e+01,  2.77510850e+01,  2.40353442e+01,\n",
              "        2.78434535e+01,  2.49424603e+01,  2.23024826e+01,  2.90087076e+01,\n",
              "        3.34298448e+01,  2.92213533e+01,  2.99569883e+01,  2.64075252e+01,\n",
              "        2.41588012e+01,  2.92989394e+01,  3.01275901e+01,  2.99648479e+01,\n",
              "        2.08025786e+01,  2.66120444e+01,  2.47340786e+01,  2.72261620e+01,\n",
              "        2.79689687e+01,  2.80931778e+01,  3.04784242e+01,  3.13937678e+01,\n",
              "        2.56319965e+01,  2.85180966e+01,  3.35451863e+01,  2.97933284e+01,\n",
              "        2.82142659e+01,  3.35163145e+01,  2.60328454e+01,  2.83735413e+01,\n",
              "        2.91580491e+01,  3.28380638e+01,  3.02720896e+01,  2.82526111e+01,\n",
              "        2.52951027e+01,  2.82851126e+01,  2.60371749e+01,  2.89123990e+01,\n",
              "        3.20418872e+01,  3.21714840e+01,  2.69557486e+01,  2.95946060e+01,\n",
              "        2.97031437e+01,  2.67857870e+01,  2.60252443e+01,  2.58885332e+01,\n",
              "        3.01820134e+01,  2.77702311e+01,  3.02283160e+01,  2.91954494e+01,\n",
              "        3.32020699e+01,  3.00882519e+01,  2.57000391e+01,  3.02736480e+01,\n",
              "        2.98040900e+01,  2.76677333e+01,  3.41878037e+01,  3.10843959e+01,\n",
              "        2.99871990e+01,  3.15584197e+01,  2.77170019e+01,  2.27635368e+01,\n",
              "        2.90409730e+01,  2.73948816e+01,  2.99142516e+01,  2.89482293e+01,\n",
              "        2.71623904e+01,  3.16951617e+01,  3.15054744e+01,  3.44062075e+01,\n",
              "        2.89425499e+01,  3.60697904e+01,  2.90787983e+01,  3.29613332e+01,\n",
              "        3.65736144e+01,  3.04756312e+01,  3.38505421e+01,  3.08419245e+01,\n",
              "        3.28320466e+01,  3.12193512e+01,  2.91043695e+01,  2.85089085e+01,\n",
              "        3.09753090e+01,  3.41152384e+01,  3.02874411e+01,  3.07643440e+01,\n",
              "        3.24213574e+01,  3.04846311e+01,  3.37222936e+01,  3.14679967e+01,\n",
              "        3.39020129e+01,  3.15616755e+01,  3.01051798e+01,  3.40582415e+01,\n",
              "        3.53919949e+01,  3.24683203e+01,  2.70610494e+01,  3.22439673e+01,\n",
              "        2.52907880e+01,  3.21110300e+01,  3.46943907e+01,  2.66510591e+01,\n",
              "        3.20364926e+01,  2.96646895e+01,  3.18673642e+01,  3.24676656e+01,\n",
              "        3.07970590e+01,  3.36823806e+01,  3.21721757e+01,  2.95765591e+01,\n",
              "        3.32020423e+01,  3.15019442e+01,  3.27344366e+01,  2.95008050e+01,\n",
              "        3.26450282e+01,  3.30645664e+01,  3.00572879e+01,  3.20689523e+01,\n",
              "        3.25634984e+01,  3.56978653e+01,  2.90182202e+01,  2.93522154e+01,\n",
              "        3.21956164e+01,  2.96017978e+01,  3.20259378e+01,  3.45157616e+01,\n",
              "        3.24234916e+01,  3.61241976e+01,  3.45386704e+01,  3.03217177e+01,\n",
              "        3.07269076e+01,  3.07494478e+01,  2.78266631e+01,  2.84093428e+01,\n",
              "        3.82985571e+01,  3.49909329e+01,  2.91423280e+01,  3.11532635e+01,\n",
              "        3.54111296e+01,  3.23269689e+01,  3.29292611e+01,  3.36857295e+01,\n",
              "        3.41851980e+01,  3.70281200e+01,  2.94169568e+01,  3.21992431e+01,\n",
              "        3.26066437e+01,  3.19411370e+01,  3.35615224e+01,  3.09538422e+01,\n",
              "        3.37124319e+01,  3.11193048e+01,  3.65087545e+01,  3.25699242e+01,\n",
              "        3.25816309e+01,  3.53143915e+01,  2.83543325e+01,  3.60322949e+01,\n",
              "        3.25627543e+01,  2.93418485e+01,  3.53098000e+01,  3.26219501e+01,\n",
              "        3.76862326e+01,  3.84443829e+01,  3.28283215e+01,  3.60261237e+01,\n",
              "        3.14112538e+01,  3.39552490e+01,  3.27762223e+01,  3.62445157e+01,\n",
              "        3.29211624e+01,  3.47801677e+01,  3.61627628e+01,  3.32273655e+01,\n",
              "        3.46192533e+01,  3.40630399e+01,  3.06255563e+01,  3.36980549e+01,\n",
              "        3.08060533e+01,  3.64292183e+01,  3.04525215e+01,  3.31832713e+01,\n",
              "        3.91907102e+01,  3.66658828e+01,  3.76549857e+01,  3.55405358e+01,\n",
              "        3.29441695e+01,  3.83710526e+01,  2.79929166e+01,  3.52734423e+01,\n",
              "        3.26311142e+01,  3.38652355e+01,  3.82715490e+01,  3.33369762e+01,\n",
              "        3.85519739e+01,  3.68446627e+01,  3.09921237e+01,  3.44799732e+01,\n",
              "        3.35683520e+01,  3.64634388e+01,  3.61884147e+01,  3.66946120e+01,\n",
              "        3.49622793e+01,  3.64556047e+01,  3.32234246e+01,  3.83437820e+01,\n",
              "        3.31687066e+01,  3.56410291e+01,  3.32222194e+01,  3.35737740e+01,\n",
              "        3.88511317e+01,  3.76163554e+01,  3.67253415e+01,  3.55730891e+01,\n",
              "        3.46832291e+01,  3.64864041e+01,  3.89099087e+01,  3.70559894e+01,\n",
              "        3.41802511e+01,  3.64095441e+01,  3.82454902e+01,  3.75566640e+01,\n",
              "        3.53774460e+01,  4.18231083e+01,  3.69514597e+01,  4.03931967e+01,\n",
              "        3.71397513e+01,  3.33843743e+01,  3.78484367e+01,  3.87593802e+01,\n",
              "        3.13209763e+01,  3.49243164e+01,  3.45353794e+01,  3.67358996e+01,\n",
              "        3.49479225e+01,  3.41480235e+01,  3.89832107e+01,  3.41113798e+01,\n",
              "        3.74774221e+01,  3.87168110e+01,  4.02778040e+01,  3.31948442e+01,\n",
              "        3.81475812e+01,  4.04221391e+01,  3.53276386e+01,  3.53573144e+01,\n",
              "        3.51647693e+01,  3.28363579e+01,  3.66707461e+01,  4.03381755e+01,\n",
              "        3.34971468e+01,  3.95616587e+01,  3.36083388e+01,  3.28141939e+01,\n",
              "        3.46852209e+01,  3.74079697e+01,  3.71188128e+01,  3.98924848e+01,\n",
              "        3.88600452e+01,  3.84989241e+01,  4.20064976e+01,  3.48162304e+01])"
            ]
          },
          "metadata": {
            "tags": []
          },
          "execution_count": 8
        }
      ]
    },
    {
      "cell_type": "code",
      "metadata": {
        "colab": {
          "base_uri": "https://localhost:8080/",
          "height": 424
        },
        "id": "9k6kEMQ4NhMY",
        "outputId": "e2932e64-8273-4702-f32a-5b28b262f105"
      },
      "source": [
        "datawn = pd.DataFrame({'x':x,'y_wn':y_wn})\n",
        "datawn"
      ],
      "execution_count": 9,
      "outputs": [
        {
          "output_type": "execute_result",
          "data": {
            "text/html": [
              "<div>\n",
              "<style scoped>\n",
              "    .dataframe tbody tr th:only-of-type {\n",
              "        vertical-align: middle;\n",
              "    }\n",
              "\n",
              "    .dataframe tbody tr th {\n",
              "        vertical-align: top;\n",
              "    }\n",
              "\n",
              "    .dataframe thead th {\n",
              "        text-align: right;\n",
              "    }\n",
              "</style>\n",
              "<table border=\"1\" class=\"dataframe\">\n",
              "  <thead>\n",
              "    <tr style=\"text-align: right;\">\n",
              "      <th></th>\n",
              "      <th>x</th>\n",
              "      <th>y_wn</th>\n",
              "    </tr>\n",
              "  </thead>\n",
              "  <tbody>\n",
              "    <tr>\n",
              "      <th>0</th>\n",
              "      <td>1.000000</td>\n",
              "      <td>-2.575803</td>\n",
              "    </tr>\n",
              "    <tr>\n",
              "      <th>1</th>\n",
              "      <td>1.009009</td>\n",
              "      <td>0.844783</td>\n",
              "    </tr>\n",
              "    <tr>\n",
              "      <th>2</th>\n",
              "      <td>1.018018</td>\n",
              "      <td>2.037437</td>\n",
              "    </tr>\n",
              "    <tr>\n",
              "      <th>3</th>\n",
              "      <td>1.027027</td>\n",
              "      <td>5.292370</td>\n",
              "    </tr>\n",
              "    <tr>\n",
              "      <th>4</th>\n",
              "      <td>1.036036</td>\n",
              "      <td>-1.004776</td>\n",
              "    </tr>\n",
              "    <tr>\n",
              "      <th>...</th>\n",
              "      <td>...</td>\n",
              "      <td>...</td>\n",
              "    </tr>\n",
              "    <tr>\n",
              "      <th>995</th>\n",
              "      <td>9.963964</td>\n",
              "      <td>39.892485</td>\n",
              "    </tr>\n",
              "    <tr>\n",
              "      <th>996</th>\n",
              "      <td>9.972973</td>\n",
              "      <td>38.860045</td>\n",
              "    </tr>\n",
              "    <tr>\n",
              "      <th>997</th>\n",
              "      <td>9.981982</td>\n",
              "      <td>38.498924</td>\n",
              "    </tr>\n",
              "    <tr>\n",
              "      <th>998</th>\n",
              "      <td>9.990991</td>\n",
              "      <td>42.006498</td>\n",
              "    </tr>\n",
              "    <tr>\n",
              "      <th>999</th>\n",
              "      <td>10.000000</td>\n",
              "      <td>34.816230</td>\n",
              "    </tr>\n",
              "  </tbody>\n",
              "</table>\n",
              "<p>1000 rows × 2 columns</p>\n",
              "</div>"
            ],
            "text/plain": [
              "             x       y_wn\n",
              "0     1.000000  -2.575803\n",
              "1     1.009009   0.844783\n",
              "2     1.018018   2.037437\n",
              "3     1.027027   5.292370\n",
              "4     1.036036  -1.004776\n",
              "..         ...        ...\n",
              "995   9.963964  39.892485\n",
              "996   9.972973  38.860045\n",
              "997   9.981982  38.498924\n",
              "998   9.990991  42.006498\n",
              "999  10.000000  34.816230\n",
              "\n",
              "[1000 rows x 2 columns]"
            ]
          },
          "metadata": {
            "tags": []
          },
          "execution_count": 9
        }
      ]
    },
    {
      "cell_type": "code",
      "metadata": {
        "colab": {
          "base_uri": "https://localhost:8080/",
          "height": 460
        },
        "id": "-9zufHWeNj7j",
        "outputId": "b4eaef9c-86c3-4cf8-9d8f-8b8263a46eac"
      },
      "source": [
        "# y = f(x) + whitenoice\n",
        "sns.jointplot(x='x', y='y_wn', data=datawn, kind='scatter')"
      ],
      "execution_count": 10,
      "outputs": [
        {
          "output_type": "execute_result",
          "data": {
            "text/plain": [
              "<seaborn.axisgrid.JointGrid at 0x7f522f1ed8d0>"
            ]
          },
          "metadata": {
            "tags": []
          },
          "execution_count": 10
        },
        {
          "output_type": "display_data",
          "data": {
            "image/png": "[encoded data removed]",
            "text/plain": [
              "<Figure size 432x432 with 3 Axes>"
            ]
          },
          "metadata": {
            "tags": [],
            "needs_background": "light"
          }
        }
      ]
    },
    {
      "cell_type": "code",
      "metadata": {
        "id": "yteDKSxINoqj"
      },
      "source": [
        "b = sp.stats.linregress(x,y_wn).intercept"
      ],
      "execution_count": 11,
      "outputs": []
    },
    {
      "cell_type": "code",
      "metadata": {
        "id": "KIneB2chNq7H"
      },
      "source": [
        "k = sp.stats.linregress(x,y_wn).slope"
      ],
      "execution_count": 12,
      "outputs": []
    },
    {
      "cell_type": "code",
      "metadata": {
        "colab": {
          "base_uri": "https://localhost:8080/"
        },
        "id": "Pvu-voddNuOD",
        "outputId": "7b6c20f4-80da-4b02-adac-a4f8cf392f46"
      },
      "source": [
        "y_pred = np.array(range(1000),float)\n",
        "for i in range(1000):\n",
        "    y_pred[i] = k * x[i] + b\n",
        "y_pred"
      ],
      "execution_count": 13,
      "outputs": [
        {
          "output_type": "execute_result",
          "data": {
            "text/plain": [
              "array([ 0.78725904,  0.82373941,  0.86021978,  0.89670014,  0.93318051,\n",
              "        0.96966088,  1.00614125,  1.04262162,  1.07910199,  1.11558236,\n",
              "        1.15206273,  1.1885431 ,  1.22502347,  1.26150384,  1.29798421,\n",
              "        1.33446458,  1.37094495,  1.40742532,  1.44390569,  1.48038606,\n",
              "        1.51686643,  1.55334679,  1.58982716,  1.62630753,  1.6627879 ,\n",
              "        1.69926827,  1.73574864,  1.77222901,  1.80870938,  1.84518975,\n",
              "        1.88167012,  1.91815049,  1.95463086,  1.99111123,  2.0275916 ,\n",
              "        2.06407197,  2.10055234,  2.13703271,  2.17351308,  2.20999344,\n",
              "        2.24647381,  2.28295418,  2.31943455,  2.35591492,  2.39239529,\n",
              "        2.42887566,  2.46535603,  2.5018364 ,  2.53831677,  2.57479714,\n",
              "        2.61127751,  2.64775788,  2.68423825,  2.72071862,  2.75719899,\n",
              "        2.79367936,  2.83015973,  2.86664009,  2.90312046,  2.93960083,\n",
              "        2.9760812 ,  3.01256157,  3.04904194,  3.08552231,  3.12200268,\n",
              "        3.15848305,  3.19496342,  3.23144379,  3.26792416,  3.30440453,\n",
              "        3.3408849 ,  3.37736527,  3.41384564,  3.45032601,  3.48680637,\n",
              "        3.52328674,  3.55976711,  3.59624748,  3.63272785,  3.66920822,\n",
              "        3.70568859,  3.74216896,  3.77864933,  3.8151297 ,  3.85161007,\n",
              "        3.88809044,  3.92457081,  3.96105118,  3.99753155,  4.03401192,\n",
              "        4.07049229,  4.10697266,  4.14345302,  4.17993339,  4.21641376,\n",
              "        4.25289413,  4.2893745 ,  4.32585487,  4.36233524,  4.39881561,\n",
              "        4.43529598,  4.47177635,  4.50825672,  4.54473709,  4.58121746,\n",
              "        4.61769783,  4.6541782 ,  4.69065857,  4.72713894,  4.76361931,\n",
              "        4.80009967,  4.83658004,  4.87306041,  4.90954078,  4.94602115,\n",
              "        4.98250152,  5.01898189,  5.05546226,  5.09194263,  5.128423  ,\n",
              "        5.16490337,  5.20138374,  5.23786411,  5.27434448,  5.31082485,\n",
              "        5.34730522,  5.38378559,  5.42026595,  5.45674632,  5.49322669,\n",
              "        5.52970706,  5.56618743,  5.6026678 ,  5.63914817,  5.67562854,\n",
              "        5.71210891,  5.74858928,  5.78506965,  5.82155002,  5.85803039,\n",
              "        5.89451076,  5.93099113,  5.9674715 ,  6.00395187,  6.04043224,\n",
              "        6.0769126 ,  6.11339297,  6.14987334,  6.18635371,  6.22283408,\n",
              "        6.25931445,  6.29579482,  6.33227519,  6.36875556,  6.40523593,\n",
              "        6.4417163 ,  6.47819667,  6.51467704,  6.55115741,  6.58763778,\n",
              "        6.62411815,  6.66059852,  6.69707889,  6.73355925,  6.77003962,\n",
              "        6.80651999,  6.84300036,  6.87948073,  6.9159611 ,  6.95244147,\n",
              "        6.98892184,  7.02540221,  7.06188258,  7.09836295,  7.13484332,\n",
              "        7.17132369,  7.20780406,  7.24428443,  7.2807648 ,  7.31724517,\n",
              "        7.35372553,  7.3902059 ,  7.42668627,  7.46316664,  7.49964701,\n",
              "        7.53612738,  7.57260775,  7.60908812,  7.64556849,  7.68204886,\n",
              "        7.71852923,  7.7550096 ,  7.79148997,  7.82797034,  7.86445071,\n",
              "        7.90093108,  7.93741145,  7.97389182,  8.01037218,  8.04685255,\n",
              "        8.08333292,  8.11981329,  8.15629366,  8.19277403,  8.2292544 ,\n",
              "        8.26573477,  8.30221514,  8.33869551,  8.37517588,  8.41165625,\n",
              "        8.44813662,  8.48461699,  8.52109736,  8.55757773,  8.5940581 ,\n",
              "        8.63053847,  8.66701883,  8.7034992 ,  8.73997957,  8.77645994,\n",
              "        8.81294031,  8.84942068,  8.88590105,  8.92238142,  8.95886179,\n",
              "        8.99534216,  9.03182253,  9.0683029 ,  9.10478327,  9.14126364,\n",
              "        9.17774401,  9.21422438,  9.25070475,  9.28718511,  9.32366548,\n",
              "        9.36014585,  9.39662622,  9.43310659,  9.46958696,  9.50606733,\n",
              "        9.5425477 ,  9.57902807,  9.61550844,  9.65198881,  9.68846918,\n",
              "        9.72494955,  9.76142992,  9.79791029,  9.83439066,  9.87087103,\n",
              "        9.9073514 ,  9.94383176,  9.98031213, 10.0167925 , 10.05327287,\n",
              "       10.08975324, 10.12623361, 10.16271398, 10.19919435, 10.23567472,\n",
              "       10.27215509, 10.30863546, 10.34511583, 10.3815962 , 10.41807657,\n",
              "       10.45455694, 10.49103731, 10.52751768, 10.56399805, 10.60047841,\n",
              "       10.63695878, 10.67343915, 10.70991952, 10.74639989, 10.78288026,\n",
              "       10.81936063, 10.855841  , 10.89232137, 10.92880174, 10.96528211,\n",
              "       11.00176248, 11.03824285, 11.07472322, 11.11120359, 11.14768396,\n",
              "       11.18416433, 11.2206447 , 11.25712506, 11.29360543, 11.3300858 ,\n",
              "       11.36656617, 11.40304654, 11.43952691, 11.47600728, 11.51248765,\n",
              "       11.54896802, 11.58544839, 11.62192876, 11.65840913, 11.6948895 ,\n",
              "       11.73136987, 11.76785024, 11.80433061, 11.84081098, 11.87729134,\n",
              "       11.91377171, 11.95025208, 11.98673245, 12.02321282, 12.05969319,\n",
              "       12.09617356, 12.13265393, 12.1691343 , 12.20561467, 12.24209504,\n",
              "       12.27857541, 12.31505578, 12.35153615, 12.38801652, 12.42449689,\n",
              "       12.46097726, 12.49745763, 12.53393799, 12.57041836, 12.60689873,\n",
              "       12.6433791 , 12.67985947, 12.71633984, 12.75282021, 12.78930058,\n",
              "       12.82578095, 12.86226132, 12.89874169, 12.93522206, 12.97170243,\n",
              "       13.0081828 , 13.04466317, 13.08114354, 13.11762391, 13.15410428,\n",
              "       13.19058464, 13.22706501, 13.26354538, 13.30002575, 13.33650612,\n",
              "       13.37298649, 13.40946686, 13.44594723, 13.4824276 , 13.51890797,\n",
              "       13.55538834, 13.59186871, 13.62834908, 13.66482945, 13.70130982,\n",
              "       13.73779019, 13.77427056, 13.81075092, 13.84723129, 13.88371166,\n",
              "       13.92019203, 13.9566724 , 13.99315277, 14.02963314, 14.06611351,\n",
              "       14.10259388, 14.13907425, 14.17555462, 14.21203499, 14.24851536,\n",
              "       14.28499573, 14.3214761 , 14.35795647, 14.39443684, 14.43091721,\n",
              "       14.46739757, 14.50387794, 14.54035831, 14.57683868, 14.61331905,\n",
              "       14.64979942, 14.68627979, 14.72276016, 14.75924053, 14.7957209 ,\n",
              "       14.83220127, 14.86868164, 14.90516201, 14.94164238, 14.97812275,\n",
              "       15.01460312, 15.05108349, 15.08756386, 15.12404422, 15.16052459,\n",
              "       15.19700496, 15.23348533, 15.2699657 , 15.30644607, 15.34292644,\n",
              "       15.37940681, 15.41588718, 15.45236755, 15.48884792, 15.52532829,\n",
              "       15.56180866, 15.59828903, 15.6347694 , 15.67124977, 15.70773014,\n",
              "       15.7442105 , 15.78069087, 15.81717124, 15.85365161, 15.89013198,\n",
              "       15.92661235, 15.96309272, 15.99957309, 16.03605346, 16.07253383,\n",
              "       16.1090142 , 16.14549457, 16.18197494, 16.21845531, 16.25493568,\n",
              "       16.29141605, 16.32789642, 16.36437679, 16.40085715, 16.43733752,\n",
              "       16.47381789, 16.51029826, 16.54677863, 16.583259  , 16.61973937,\n",
              "       16.65621974, 16.69270011, 16.72918048, 16.76566085, 16.80214122,\n",
              "       16.83862159, 16.87510196, 16.91158233, 16.9480627 , 16.98454307,\n",
              "       17.02102344, 17.0575038 , 17.09398417, 17.13046454, 17.16694491,\n",
              "       17.20342528, 17.23990565, 17.27638602, 17.31286639, 17.34934676,\n",
              "       17.38582713, 17.4223075 , 17.45878787, 17.49526824, 17.53174861,\n",
              "       17.56822898, 17.60470935, 17.64118972, 17.67767008, 17.71415045,\n",
              "       17.75063082, 17.78711119, 17.82359156, 17.86007193, 17.8965523 ,\n",
              "       17.93303267, 17.96951304, 18.00599341, 18.04247378, 18.07895415,\n",
              "       18.11543452, 18.15191489, 18.18839526, 18.22487563, 18.261356  ,\n",
              "       18.29783637, 18.33431673, 18.3707971 , 18.40727747, 18.44375784,\n",
              "       18.48023821, 18.51671858, 18.55319895, 18.58967932, 18.62615969,\n",
              "       18.66264006, 18.69912043, 18.7356008 , 18.77208117, 18.80856154,\n",
              "       18.84504191, 18.88152228, 18.91800265, 18.95448302, 18.99096338,\n",
              "       19.02744375, 19.06392412, 19.10040449, 19.13688486, 19.17336523,\n",
              "       19.2098456 , 19.24632597, 19.28280634, 19.31928671, 19.35576708,\n",
              "       19.39224745, 19.42872782, 19.46520819, 19.50168856, 19.53816893,\n",
              "       19.5746493 , 19.61112966, 19.64761003, 19.6840904 , 19.72057077,\n",
              "       19.75705114, 19.79353151, 19.83001188, 19.86649225, 19.90297262,\n",
              "       19.93945299, 19.97593336, 20.01241373, 20.0488941 , 20.08537447,\n",
              "       20.12185484, 20.15833521, 20.19481558, 20.23129595, 20.26777631,\n",
              "       20.30425668, 20.34073705, 20.37721742, 20.41369779, 20.45017816,\n",
              "       20.48665853, 20.5231389 , 20.55961927, 20.59609964, 20.63258001,\n",
              "       20.66906038, 20.70554075, 20.74202112, 20.77850149, 20.81498186,\n",
              "       20.85146223, 20.8879426 , 20.92442296, 20.96090333, 20.9973837 ,\n",
              "       21.03386407, 21.07034444, 21.10682481, 21.14330518, 21.17978555,\n",
              "       21.21626592, 21.25274629, 21.28922666, 21.32570703, 21.3621874 ,\n",
              "       21.39866777, 21.43514814, 21.47162851, 21.50810888, 21.54458925,\n",
              "       21.58106961, 21.61754998, 21.65403035, 21.69051072, 21.72699109,\n",
              "       21.76347146, 21.79995183, 21.8364322 , 21.87291257, 21.90939294,\n",
              "       21.94587331, 21.98235368, 22.01883405, 22.05531442, 22.09179479,\n",
              "       22.12827516, 22.16475553, 22.20123589, 22.23771626, 22.27419663,\n",
              "       22.310677  , 22.34715737, 22.38363774, 22.42011811, 22.45659848,\n",
              "       22.49307885, 22.52955922, 22.56603959, 22.60251996, 22.63900033,\n",
              "       22.6754807 , 22.71196107, 22.74844144, 22.78492181, 22.82140218,\n",
              "       22.85788254, 22.89436291, 22.93084328, 22.96732365, 23.00380402,\n",
              "       23.04028439, 23.07676476, 23.11324513, 23.1497255 , 23.18620587,\n",
              "       23.22268624, 23.25916661, 23.29564698, 23.33212735, 23.36860772,\n",
              "       23.40508809, 23.44156846, 23.47804883, 23.51452919, 23.55100956,\n",
              "       23.58748993, 23.6239703 , 23.66045067, 23.69693104, 23.73341141,\n",
              "       23.76989178, 23.80637215, 23.84285252, 23.87933289, 23.91581326,\n",
              "       23.95229363, 23.988774  , 24.02525437, 24.06173474, 24.09821511,\n",
              "       24.13469547, 24.17117584, 24.20765621, 24.24413658, 24.28061695,\n",
              "       24.31709732, 24.35357769, 24.39005806, 24.42653843, 24.4630188 ,\n",
              "       24.49949917, 24.53597954, 24.57245991, 24.60894028, 24.64542065,\n",
              "       24.68190102, 24.71838139, 24.75486176, 24.79134212, 24.82782249,\n",
              "       24.86430286, 24.90078323, 24.9372636 , 24.97374397, 25.01022434,\n",
              "       25.04670471, 25.08318508, 25.11966545, 25.15614582, 25.19262619,\n",
              "       25.22910656, 25.26558693, 25.3020673 , 25.33854767, 25.37502804,\n",
              "       25.41150841, 25.44798877, 25.48446914, 25.52094951, 25.55742988,\n",
              "       25.59391025, 25.63039062, 25.66687099, 25.70335136, 25.73983173,\n",
              "       25.7763121 , 25.81279247, 25.84927284, 25.88575321, 25.92223358,\n",
              "       25.95871395, 25.99519432, 26.03167469, 26.06815505, 26.10463542,\n",
              "       26.14111579, 26.17759616, 26.21407653, 26.2505569 , 26.28703727,\n",
              "       26.32351764, 26.35999801, 26.39647838, 26.43295875, 26.46943912,\n",
              "       26.50591949, 26.54239986, 26.57888023, 26.6153606 , 26.65184097,\n",
              "       26.68832134, 26.7248017 , 26.76128207, 26.79776244, 26.83424281,\n",
              "       26.87072318, 26.90720355, 26.94368392, 26.98016429, 27.01664466,\n",
              "       27.05312503, 27.0896054 , 27.12608577, 27.16256614, 27.19904651,\n",
              "       27.23552688, 27.27200725, 27.30848762, 27.34496799, 27.38144835,\n",
              "       27.41792872, 27.45440909, 27.49088946, 27.52736983, 27.5638502 ,\n",
              "       27.60033057, 27.63681094, 27.67329131, 27.70977168, 27.74625205,\n",
              "       27.78273242, 27.81921279, 27.85569316, 27.89217353, 27.9286539 ,\n",
              "       27.96513427, 28.00161463, 28.038095  , 28.07457537, 28.11105574,\n",
              "       28.14753611, 28.18401648, 28.22049685, 28.25697722, 28.29345759,\n",
              "       28.32993796, 28.36641833, 28.4028987 , 28.43937907, 28.47585944,\n",
              "       28.51233981, 28.54882018, 28.58530055, 28.62178092, 28.65826128,\n",
              "       28.69474165, 28.73122202, 28.76770239, 28.80418276, 28.84066313,\n",
              "       28.8771435 , 28.91362387, 28.95010424, 28.98658461, 29.02306498,\n",
              "       29.05954535, 29.09602572, 29.13250609, 29.16898646, 29.20546683,\n",
              "       29.2419472 , 29.27842757, 29.31490793, 29.3513883 , 29.38786867,\n",
              "       29.42434904, 29.46082941, 29.49730978, 29.53379015, 29.57027052,\n",
              "       29.60675089, 29.64323126, 29.67971163, 29.716192  , 29.75267237,\n",
              "       29.78915274, 29.82563311, 29.86211348, 29.89859385, 29.93507422,\n",
              "       29.97155458, 30.00803495, 30.04451532, 30.08099569, 30.11747606,\n",
              "       30.15395643, 30.1904368 , 30.22691717, 30.26339754, 30.29987791,\n",
              "       30.33635828, 30.37283865, 30.40931902, 30.44579939, 30.48227976,\n",
              "       30.51876013, 30.5552405 , 30.59172086, 30.62820123, 30.6646816 ,\n",
              "       30.70116197, 30.73764234, 30.77412271, 30.81060308, 30.84708345,\n",
              "       30.88356382, 30.92004419, 30.95652456, 30.99300493, 31.0294853 ,\n",
              "       31.06596567, 31.10244604, 31.13892641, 31.17540678, 31.21188715,\n",
              "       31.24836751, 31.28484788, 31.32132825, 31.35780862, 31.39428899,\n",
              "       31.43076936, 31.46724973, 31.5037301 , 31.54021047, 31.57669084,\n",
              "       31.61317121, 31.64965158, 31.68613195, 31.72261232, 31.75909269,\n",
              "       31.79557306, 31.83205343, 31.8685338 , 31.90501416, 31.94149453,\n",
              "       31.9779749 , 32.01445527, 32.05093564, 32.08741601, 32.12389638,\n",
              "       32.16037675, 32.19685712, 32.23333749, 32.26981786, 32.30629823,\n",
              "       32.3427786 , 32.37925897, 32.41573934, 32.45221971, 32.48870008,\n",
              "       32.52518044, 32.56166081, 32.59814118, 32.63462155, 32.67110192,\n",
              "       32.70758229, 32.74406266, 32.78054303, 32.8170234 , 32.85350377,\n",
              "       32.88998414, 32.92646451, 32.96294488, 32.99942525, 33.03590562,\n",
              "       33.07238599, 33.10886636, 33.14534673, 33.18182709, 33.21830746,\n",
              "       33.25478783, 33.2912682 , 33.32774857, 33.36422894, 33.40070931,\n",
              "       33.43718968, 33.47367005, 33.51015042, 33.54663079, 33.58311116,\n",
              "       33.61959153, 33.6560719 , 33.69255227, 33.72903264, 33.76551301,\n",
              "       33.80199338, 33.83847374, 33.87495411, 33.91143448, 33.94791485,\n",
              "       33.98439522, 34.02087559, 34.05735596, 34.09383633, 34.1303167 ,\n",
              "       34.16679707, 34.20327744, 34.23975781, 34.27623818, 34.31271855,\n",
              "       34.34919892, 34.38567929, 34.42215966, 34.45864002, 34.49512039,\n",
              "       34.53160076, 34.56808113, 34.6045615 , 34.64104187, 34.67752224,\n",
              "       34.71400261, 34.75048298, 34.78696335, 34.82344372, 34.85992409,\n",
              "       34.89640446, 34.93288483, 34.9693652 , 35.00584557, 35.04232594,\n",
              "       35.07880631, 35.11528667, 35.15176704, 35.18824741, 35.22472778,\n",
              "       35.26120815, 35.29768852, 35.33416889, 35.37064926, 35.40712963,\n",
              "       35.44361   , 35.48009037, 35.51657074, 35.55305111, 35.58953148,\n",
              "       35.62601185, 35.66249222, 35.69897259, 35.73545296, 35.77193332,\n",
              "       35.80841369, 35.84489406, 35.88137443, 35.9178548 , 35.95433517,\n",
              "       35.99081554, 36.02729591, 36.06377628, 36.10025665, 36.13673702,\n",
              "       36.17321739, 36.20969776, 36.24617813, 36.2826585 , 36.31913887,\n",
              "       36.35561924, 36.3920996 , 36.42857997, 36.46506034, 36.50154071,\n",
              "       36.53802108, 36.57450145, 36.61098182, 36.64746219, 36.68394256,\n",
              "       36.72042293, 36.7569033 , 36.79338367, 36.82986404, 36.86634441,\n",
              "       36.90282478, 36.93930515, 36.97578552, 37.01226589, 37.04874625,\n",
              "       37.08522662, 37.12170699, 37.15818736, 37.19466773, 37.2311481 ])"
            ]
          },
          "metadata": {
            "tags": []
          },
          "execution_count": 13
        }
      ]
    },
    {
      "cell_type": "code",
      "metadata": {
        "id": "wZPC1iPtNxZx"
      },
      "source": [
        "datapred = pd.DataFrame({'x':x, 'y_pred':y_pred})"
      ],
      "execution_count": 14,
      "outputs": []
    },
    {
      "cell_type": "code",
      "metadata": {
        "colab": {
          "base_uri": "https://localhost:8080/",
          "height": 460
        },
        "id": "ReLCyEcmN0UC",
        "outputId": "a862f9d3-d6a5-4e29-b029-b4d2132c6645"
      },
      "source": [
        "# y = f(x)   pred\n",
        "sns.jointplot(x='x', y='y_pred', data=datapred, kind='scatter')"
      ],
      "execution_count": 15,
      "outputs": [
        {
          "output_type": "execute_result",
          "data": {
            "text/plain": [
              "<seaborn.axisgrid.JointGrid at 0x7f522f272e90>"
            ]
          },
          "metadata": {
            "tags": []
          },
          "execution_count": 15
        },
        {
          "output_type": "display_data",
          "data": {
            "image/png": "[encoded data removed]",
            "text/plain": [
              "<Figure size 432x432 with 3 Axes>"
            ]
          },
          "metadata": {
            "tags": [],
            "needs_background": "light"
          }
        }
      ]
    },
    {
      "cell_type": "code",
      "metadata": {
        "id": "FV3WHplVOICu"
      },
      "source": [
        "datares = pd.DataFrame({'x':x, 'y':y, 'y_wn':y_wn, 'y_pred':y_pred})"
      ],
      "execution_count": 16,
      "outputs": []
    }
  ]
}